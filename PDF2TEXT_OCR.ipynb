{
 "cells": [
  {
   "cell_type": "code",
   "execution_count": 1,
   "id": "062beb1f-4b95-4348-9074-c0b9083536e0",
   "metadata": {},
   "outputs": [
    {
     "name": "stdout",
     "output_type": "stream",
     "text": [
      "Conversión completada.\n"
     ]
    }
   ],
   "source": [
    "import fitz  # PyMuPDF\n",
    "import pytesseract\n",
    "from PIL import Image\n",
    "import io\n",
    "\n",
    "# Asegúrate de configurar el camino al ejecutable de tesseract si no está en PATH\n",
    "# pytesseract.pytesseract.tesseract_cmd = r'<path_a_tu_tesseract.exe>'\n",
    "\n",
    "def pdf_to_text_ocr(pdf_path):\n",
    "    # Abre el documento PDF\n",
    "    doc = fitz.open(pdf_path)\n",
    "    text = \"\"\n",
    "    \n",
    "    for page_num in range(len(doc)):\n",
    "        # Obtiene la página\n",
    "        page = doc.load_page(page_num)\n",
    "\n",
    "        # Extrae la imagen de la página\n",
    "        pix = page.get_pixmap()\n",
    "        img = Image.open(io.BytesIO(pix.tobytes()))\n",
    "\n",
    "        # Usa OCR para convertir la imagen a texto\n",
    "        text += pytesseract.image_to_string(img)\n",
    "    \n",
    "    return text\n",
    "\n",
    "# Ruta al archivo PDF\n",
    "pdf_path = r\"C:\\Users\\HP\\Downloads\\doc.pdf\"\n",
    "ruta_txt_destino =r\"C:\\Users\\HP\\Downloads\\doc.txt\"\n",
    "\n",
    "# Convertir el PDF a texto con OCR\n",
    "text = pdf_to_text_ocr(pdf_path)\n",
    "\n",
    "# Opcional: guardar el texto en un archivo\n",
    "with open(ruta_txt_destino, 'w') as f:\n",
    "    f.write(text)\n",
    "\n",
    "print(\"Conversión completada.\")\n"
   ]
  },
  {
   "cell_type": "code",
   "execution_count": null,
   "id": "a2f6b845-af4d-4185-b44e-7a313eaf75b3",
   "metadata": {},
   "outputs": [],
   "source": []
  },
  {
   "cell_type": "code",
   "execution_count": null,
   "id": "8a52c45a",
   "metadata": {},
   "outputs": [],
   "source": []
  },
  {
   "cell_type": "code",
   "execution_count": null,
   "id": "8db3be80",
   "metadata": {},
   "outputs": [],
   "source": []
  }
 ],
 "metadata": {
  "kernelspec": {
   "display_name": "Python 3 (ipykernel)",
   "language": "python",
   "name": "python3"
  },
  "language_info": {
   "codemirror_mode": {
    "name": "ipython",
    "version": 3
   },
   "file_extension": ".py",
   "mimetype": "text/x-python",
   "name": "python",
   "nbconvert_exporter": "python",
   "pygments_lexer": "ipython3",
   "version": "3.11.7"
  }
 },
 "nbformat": 4,
 "nbformat_minor": 5
}
